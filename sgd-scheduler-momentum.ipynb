{
 "cells": [
  {
   "cell_type": "markdown",
   "metadata": {
    "id": "FLvol50J64Kt"
   },
   "source": [
    "## Imports"
   ]
  },
  {
   "cell_type": "code",
   "execution_count": 1,
   "metadata": {
    "colab": {
     "base_uri": "https://localhost:8080/"
    },
    "executionInfo": {
     "elapsed": 4,
     "status": "ok",
     "timestamp": 1665764456908,
     "user": {
      "displayName": "Aniketh Reddy",
      "userId": "07306145381594467094"
     },
     "user_tz": 240
    },
    "id": "zRkJwXsr-MZ3",
    "outputId": "918d1be3-f199-49b2-a5c6-42da93440d17"
   },
   "outputs": [
    {
     "name": "stdout",
     "output_type": "stream",
     "text": [
      "env: CUBLAS_WORKSPACE_CONFIG=:4096:8\n"
     ]
    }
   ],
   "source": [
    "%env CUBLAS_WORKSPACE_CONFIG=:4096:8"
   ]
  },
  {
   "cell_type": "code",
   "execution_count": 2,
   "metadata": {
    "executionInfo": {
     "elapsed": 1148,
     "status": "ok",
     "timestamp": 1665764458053,
     "user": {
      "displayName": "Aniketh Reddy",
      "userId": "07306145381594467094"
     },
     "user_tz": 240
    },
    "id": "gxSOBh7n64Ku"
   },
   "outputs": [],
   "source": [
    "import torch\n",
    "import numpy as np\n",
    "import matplotlib.pyplot as plt"
   ]
  },
  {
   "cell_type": "code",
   "execution_count": 3,
   "metadata": {
    "executionInfo": {
     "elapsed": 10,
     "status": "ok",
     "timestamp": 1665764458054,
     "user": {
      "displayName": "Aniketh Reddy",
      "userId": "07306145381594467094"
     },
     "user_tz": 240
    },
    "id": "vudnKtGu64Ku"
   },
   "outputs": [],
   "source": [
    "# From local helper files\n",
    "from helper_evaluation import set_all_seeds, set_deterministic\n",
    "from helper_train import train_model\n",
    "from helper_plotting import plot_training_loss, plot_accuracy, show_examples\n",
    "from helper_dataset import get_dataloaders_mnist"
   ]
  },
  {
   "cell_type": "markdown",
   "metadata": {
    "id": "aIFWbHWD64Ku"
   },
   "source": [
    "## Settings and Dataset"
   ]
  },
  {
   "cell_type": "code",
   "execution_count": 4,
   "metadata": {
    "executionInfo": {
     "elapsed": 8,
     "status": "ok",
     "timestamp": 1665764458054,
     "user": {
      "displayName": "Aniketh Reddy",
      "userId": "07306145381594467094"
     },
     "user_tz": 240
    },
    "id": "iEfdUreD64Ku"
   },
   "outputs": [],
   "source": [
    "##########################\n",
    "### SETTINGS\n",
    "##########################\n",
    "\n",
    "RANDOM_SEED = 123\n",
    "BATCH_SIZE = 256\n",
    "NUM_HIDDEN_1 = 75\n",
    "NUM_HIDDEN_2 = 45\n",
    "NUM_EPOCHS = 50\n",
    "DEVICE = torch.device('cuda:0' if torch.cuda.is_available() else 'cpu')"
   ]
  },
  {
   "cell_type": "code",
   "execution_count": 5,
   "metadata": {
    "executionInfo": {
     "elapsed": 8,
     "status": "ok",
     "timestamp": 1665764458055,
     "user": {
      "displayName": "Aniketh Reddy",
      "userId": "07306145381594467094"
     },
     "user_tz": 240
    },
    "id": "j4u4FdLP64Kv"
   },
   "outputs": [],
   "source": [
    "set_all_seeds(RANDOM_SEED)\n",
    "set_deterministic()"
   ]
  },
  {
   "cell_type": "code",
   "execution_count": 6,
   "metadata": {
    "colab": {
     "base_uri": "https://localhost:8080/"
    },
    "executionInfo": {
     "elapsed": 8,
     "status": "ok",
     "timestamp": 1665764458055,
     "user": {
      "displayName": "Aniketh Reddy",
      "userId": "07306145381594467094"
     },
     "user_tz": 240
    },
    "id": "jqgFAKQS64Kv",
    "outputId": "393eab8e-2e16-4fa1-8b4d-5362f710b5db"
   },
   "outputs": [
    {
     "name": "stdout",
     "output_type": "stream",
     "text": [
      "Image batch dimensions: torch.Size([256, 1, 28, 28])\n",
      "Image label dimensions: torch.Size([256])\n",
      "Class labels of 10 examples: tensor([4, 5, 8, 9, 9, 4, 9, 9, 3, 9])\n"
     ]
    }
   ],
   "source": [
    "##########################\n",
    "### MNIST DATASET\n",
    "##########################\n",
    "\n",
    "train_loader, valid_loader, test_loader = get_dataloaders_mnist(\n",
    "    batch_size=BATCH_SIZE,\n",
    "    validation_fraction=0.1)\n",
    "\n",
    "# Checking the dataset\n",
    "for images, labels in train_loader:  \n",
    "    print('Image batch dimensions:', images.shape)\n",
    "    print('Image label dimensions:', labels.shape)\n",
    "    print('Class labels of 10 examples:', labels[:10])\n",
    "    break"
   ]
  },
  {
   "cell_type": "markdown",
   "metadata": {
    "id": "_UUlYG2564Kw"
   },
   "source": [
    "## Model"
   ]
  },
  {
   "cell_type": "code",
   "execution_count": 7,
   "metadata": {
    "executionInfo": {
     "elapsed": 7,
     "status": "ok",
     "timestamp": 1665764458056,
     "user": {
      "displayName": "Aniketh Reddy",
      "userId": "07306145381594467094"
     },
     "user_tz": 240
    },
    "id": "3ECRpEXE64Kw"
   },
   "outputs": [],
   "source": [
    "class MLPNet(torch.nn.Module):\n",
    "  def __init__(self):\n",
    "    super(MLPNet, self).__init__()\n",
    "    self.fc1 = torch.nn.Linear(784, 256)\n",
    "    self.fc2 = torch.nn.Linear(256, 256)\n",
    "    self.fc3 = torch.nn.Linear(256, 10)\n",
    "\n",
    "  def forward(self, x):\n",
    "    x = x.view(-1, 28*28)\n",
    "    x = torch.nn.functional.relu(self.fc1(x))\n",
    "    x = torch.nn.functional.relu(self.fc2(x))\n",
    "    x = self.fc3(x)\n",
    "    return x\n",
    "  def name(self):\n",
    "    return \"MLP\""
   ]
  },
  {
   "cell_type": "code",
   "execution_count": 8,
   "metadata": {
    "colab": {
     "base_uri": "https://localhost:8080/",
     "height": 1000
    },
    "executionInfo": {
     "elapsed": 484151,
     "status": "ok",
     "timestamp": 1665764942201,
     "user": {
      "displayName": "Aniketh Reddy",
      "userId": "07306145381594467094"
     },
     "user_tz": 240
    },
    "id": "bp545zvI_i8e",
    "outputId": "c878ceb0-2082-4b62-ca38-2671f0a007c5"
   },
   "outputs": [
    {
     "name": "stdout",
     "output_type": "stream",
     "text": [
      "Epoch: 001/050 | Batch 0000/0210 | Loss: 2.2969\n",
      "Epoch: 001/050 | Batch 0050/0210 | Loss: 0.3771\n",
      "Epoch: 001/050 | Batch 0100/0210 | Loss: 0.3839\n",
      "Epoch: 001/050 | Batch 0150/0210 | Loss: 0.2458\n",
      "Epoch: 001/050 | Batch 0200/0210 | Loss: 0.1640\n",
      "Epoch: 001/050 | Train: 95.00% | Validation: 95.73%\n",
      "Time elapsed: 0.23 min\n",
      "Epoch: 002/050 | Batch 0000/0210 | Loss: 0.1669\n",
      "Epoch: 002/050 | Batch 0050/0210 | Loss: 0.1919\n",
      "Epoch: 002/050 | Batch 0100/0210 | Loss: 0.1445\n",
      "Epoch: 002/050 | Batch 0150/0210 | Loss: 0.1105\n",
      "Epoch: 002/050 | Batch 0200/0210 | Loss: 0.1008\n",
      "Epoch: 002/050 | Train: 97.66% | Validation: 97.58%\n",
      "Time elapsed: 0.39 min\n",
      "Epoch: 003/050 | Batch 0000/0210 | Loss: 0.1236\n",
      "Epoch: 003/050 | Batch 0050/0210 | Loss: 0.0920\n",
      "Epoch: 003/050 | Batch 0100/0210 | Loss: 0.0654\n",
      "Epoch: 003/050 | Batch 0150/0210 | Loss: 0.1189\n",
      "Epoch: 003/050 | Batch 0200/0210 | Loss: 0.0625\n",
      "Epoch: 003/050 | Train: 97.81% | Validation: 97.30%\n",
      "Time elapsed: 0.55 min\n",
      "Epoch: 004/050 | Batch 0000/0210 | Loss: 0.0868\n",
      "Epoch: 004/050 | Batch 0050/0210 | Loss: 0.0487\n",
      "Epoch: 004/050 | Batch 0100/0210 | Loss: 0.0165\n",
      "Epoch: 004/050 | Batch 0150/0210 | Loss: 0.0518\n",
      "Epoch: 004/050 | Batch 0200/0210 | Loss: 0.0850\n",
      "Epoch: 004/050 | Train: 98.67% | Validation: 97.93%\n",
      "Time elapsed: 0.71 min\n",
      "Epoch: 005/050 | Batch 0000/0210 | Loss: 0.0494\n",
      "Epoch: 005/050 | Batch 0050/0210 | Loss: 0.0339\n",
      "Epoch: 005/050 | Batch 0100/0210 | Loss: 0.0315\n",
      "Epoch: 005/050 | Batch 0150/0210 | Loss: 0.0721\n",
      "Epoch: 005/050 | Batch 0200/0210 | Loss: 0.0473\n",
      "Epoch: 005/050 | Train: 98.86% | Validation: 98.05%\n",
      "Time elapsed: 0.86 min\n",
      "Epoch: 006/050 | Batch 0000/0210 | Loss: 0.0135\n",
      "Epoch: 006/050 | Batch 0050/0210 | Loss: 0.0277\n",
      "Epoch: 006/050 | Batch 0100/0210 | Loss: 0.0261\n",
      "Epoch: 006/050 | Batch 0150/0210 | Loss: 0.0313\n",
      "Epoch: 006/050 | Batch 0200/0210 | Loss: 0.0448\n",
      "Epoch: 006/050 | Train: 99.42% | Validation: 98.08%\n",
      "Time elapsed: 1.03 min\n",
      "Epoch: 007/050 | Batch 0000/0210 | Loss: 0.0268\n",
      "Epoch: 007/050 | Batch 0050/0210 | Loss: 0.0259\n",
      "Epoch: 007/050 | Batch 0100/0210 | Loss: 0.0374\n",
      "Epoch: 007/050 | Batch 0150/0210 | Loss: 0.0130\n",
      "Epoch: 007/050 | Batch 0200/0210 | Loss: 0.0338\n",
      "Epoch: 007/050 | Train: 98.99% | Validation: 97.82%\n",
      "Time elapsed: 1.18 min\n",
      "Epoch: 008/050 | Batch 0000/0210 | Loss: 0.0509\n",
      "Epoch: 008/050 | Batch 0050/0210 | Loss: 0.0128\n",
      "Epoch: 008/050 | Batch 0100/0210 | Loss: 0.0669\n",
      "Epoch: 008/050 | Batch 0150/0210 | Loss: 0.0324\n",
      "Epoch: 008/050 | Batch 0200/0210 | Loss: 0.0220\n",
      "Epoch: 008/050 | Train: 99.52% | Validation: 98.13%\n",
      "Time elapsed: 1.34 min\n",
      "Epoch: 009/050 | Batch 0000/0210 | Loss: 0.0117\n",
      "Epoch: 009/050 | Batch 0050/0210 | Loss: 0.0328\n",
      "Epoch: 009/050 | Batch 0100/0210 | Loss: 0.0065\n",
      "Epoch: 009/050 | Batch 0150/0210 | Loss: 0.0197\n",
      "Epoch: 009/050 | Batch 0200/0210 | Loss: 0.0078\n",
      "Epoch: 009/050 | Train: 99.68% | Validation: 98.12%\n",
      "Time elapsed: 1.50 min\n",
      "Epoch: 010/050 | Batch 0000/0210 | Loss: 0.0066\n",
      "Epoch: 010/050 | Batch 0050/0210 | Loss: 0.0194\n",
      "Epoch: 010/050 | Batch 0100/0210 | Loss: 0.0155\n",
      "Epoch: 010/050 | Batch 0150/0210 | Loss: 0.0130\n",
      "Epoch: 010/050 | Batch 0200/0210 | Loss: 0.0231\n",
      "Epoch: 010/050 | Train: 99.61% | Validation: 98.18%\n",
      "Time elapsed: 1.66 min\n",
      "Epoch: 011/050 | Batch 0000/0210 | Loss: 0.0082\n",
      "Epoch: 011/050 | Batch 0050/0210 | Loss: 0.0109\n",
      "Epoch: 011/050 | Batch 0100/0210 | Loss: 0.0094\n",
      "Epoch: 011/050 | Batch 0150/0210 | Loss: 0.0224\n",
      "Epoch: 011/050 | Batch 0200/0210 | Loss: 0.0115\n",
      "Epoch: 011/050 | Train: 99.83% | Validation: 98.37%\n",
      "Time elapsed: 1.81 min\n",
      "Epoch: 012/050 | Batch 0000/0210 | Loss: 0.0068\n",
      "Epoch: 012/050 | Batch 0050/0210 | Loss: 0.0142\n",
      "Epoch: 012/050 | Batch 0100/0210 | Loss: 0.0139\n",
      "Epoch: 012/050 | Batch 0150/0210 | Loss: 0.0042\n",
      "Epoch: 012/050 | Batch 0200/0210 | Loss: 0.0104\n",
      "Epoch: 012/050 | Train: 99.85% | Validation: 98.12%\n",
      "Time elapsed: 2.02 min\n",
      "Epoch: 013/050 | Batch 0000/0210 | Loss: 0.0057\n",
      "Epoch: 013/050 | Batch 0050/0210 | Loss: 0.0096\n",
      "Epoch: 013/050 | Batch 0100/0210 | Loss: 0.0042\n",
      "Epoch: 013/050 | Batch 0150/0210 | Loss: 0.0075\n",
      "Epoch: 013/050 | Batch 0200/0210 | Loss: 0.0347\n",
      "Epoch: 013/050 | Train: 99.91% | Validation: 98.43%\n",
      "Time elapsed: 2.18 min\n",
      "Epoch: 014/050 | Batch 0000/0210 | Loss: 0.0039\n",
      "Epoch: 014/050 | Batch 0050/0210 | Loss: 0.0072\n",
      "Epoch: 014/050 | Batch 0100/0210 | Loss: 0.0050\n",
      "Epoch: 014/050 | Batch 0150/0210 | Loss: 0.0079\n",
      "Epoch: 014/050 | Batch 0200/0210 | Loss: 0.0078\n",
      "Epoch: 014/050 | Train: 99.94% | Validation: 98.27%\n",
      "Time elapsed: 2.34 min\n",
      "Epoch: 015/050 | Batch 0000/0210 | Loss: 0.0043\n",
      "Epoch: 015/050 | Batch 0050/0210 | Loss: 0.0019\n",
      "Epoch: 015/050 | Batch 0100/0210 | Loss: 0.0050\n",
      "Epoch: 015/050 | Batch 0150/0210 | Loss: 0.0020\n",
      "Epoch: 015/050 | Batch 0200/0210 | Loss: 0.0021\n",
      "Epoch: 015/050 | Train: 99.99% | Validation: 98.45%\n",
      "Time elapsed: 2.49 min\n",
      "Epoch: 016/050 | Batch 0000/0210 | Loss: 0.0020\n",
      "Epoch: 016/050 | Batch 0050/0210 | Loss: 0.0046\n",
      "Epoch: 016/050 | Batch 0100/0210 | Loss: 0.0046\n",
      "Epoch: 016/050 | Batch 0150/0210 | Loss: 0.0046\n",
      "Epoch: 016/050 | Batch 0200/0210 | Loss: 0.0013\n",
      "Epoch: 016/050 | Train: 99.99% | Validation: 98.35%\n",
      "Time elapsed: 2.65 min\n",
      "Epoch: 017/050 | Batch 0000/0210 | Loss: 0.0031\n",
      "Epoch: 017/050 | Batch 0050/0210 | Loss: 0.0019\n",
      "Epoch: 017/050 | Batch 0100/0210 | Loss: 0.0016\n",
      "Epoch: 017/050 | Batch 0150/0210 | Loss: 0.0023\n",
      "Epoch: 017/050 | Batch 0200/0210 | Loss: 0.0043\n",
      "Epoch: 017/050 | Train: 99.99% | Validation: 98.35%\n",
      "Time elapsed: 2.81 min\n",
      "Epoch: 018/050 | Batch 0000/0210 | Loss: 0.0034\n",
      "Epoch: 018/050 | Batch 0050/0210 | Loss: 0.0017\n",
      "Epoch: 018/050 | Batch 0100/0210 | Loss: 0.0029\n",
      "Epoch: 018/050 | Batch 0150/0210 | Loss: 0.0011\n",
      "Epoch: 018/050 | Batch 0200/0210 | Loss: 0.0047\n",
      "Epoch: 018/050 | Train: 99.99% | Validation: 98.35%\n",
      "Time elapsed: 2.97 min\n",
      "Epoch: 019/050 | Batch 0000/0210 | Loss: 0.0043\n",
      "Epoch: 019/050 | Batch 0050/0210 | Loss: 0.0018\n",
      "Epoch: 019/050 | Batch 0100/0210 | Loss: 0.0014\n",
      "Epoch: 019/050 | Batch 0150/0210 | Loss: 0.0022\n",
      "Epoch: 019/050 | Batch 0200/0210 | Loss: 0.0019\n",
      "Epoch: 019/050 | Train: 100.00% | Validation: 98.43%\n",
      "Time elapsed: 3.13 min\n",
      "Epoch: 020/050 | Batch 0000/0210 | Loss: 0.0011\n",
      "Epoch: 020/050 | Batch 0050/0210 | Loss: 0.0015\n",
      "Epoch: 020/050 | Batch 0100/0210 | Loss: 0.0023\n",
      "Epoch: 020/050 | Batch 0150/0210 | Loss: 0.0014\n",
      "Epoch: 020/050 | Batch 0200/0210 | Loss: 0.0027\n",
      "Epoch: 020/050 | Train: 100.00% | Validation: 98.55%\n",
      "Time elapsed: 3.28 min\n",
      "Epoch: 021/050 | Batch 0000/0210 | Loss: 0.0021\n",
      "Epoch: 021/050 | Batch 0050/0210 | Loss: 0.0027\n",
      "Epoch: 021/050 | Batch 0100/0210 | Loss: 0.0026\n",
      "Epoch: 021/050 | Batch 0150/0210 | Loss: 0.0033\n",
      "Epoch: 021/050 | Batch 0200/0210 | Loss: 0.0031\n",
      "Epoch: 021/050 | Train: 100.00% | Validation: 98.45%\n",
      "Time elapsed: 3.44 min\n",
      "Epoch: 022/050 | Batch 0000/0210 | Loss: 0.0030\n",
      "Epoch: 022/050 | Batch 0050/0210 | Loss: 0.0030\n",
      "Epoch: 022/050 | Batch 0100/0210 | Loss: 0.0015\n",
      "Epoch: 022/050 | Batch 0150/0210 | Loss: 0.0013\n",
      "Epoch: 022/050 | Batch 0200/0210 | Loss: 0.0023\n",
      "Epoch: 022/050 | Train: 100.00% | Validation: 98.52%\n",
      "Time elapsed: 3.59 min\n",
      "Epoch: 023/050 | Batch 0000/0210 | Loss: 0.0024\n",
      "Epoch: 023/050 | Batch 0050/0210 | Loss: 0.0016\n",
      "Epoch: 023/050 | Batch 0100/0210 | Loss: 0.0027\n",
      "Epoch: 023/050 | Batch 0150/0210 | Loss: 0.0018\n",
      "Epoch: 023/050 | Batch 0200/0210 | Loss: 0.0025\n",
      "Epoch: 023/050 | Train: 100.00% | Validation: 98.38%\n",
      "Time elapsed: 3.75 min\n",
      "Epoch: 024/050 | Batch 0000/0210 | Loss: 0.0024\n",
      "Epoch: 024/050 | Batch 0050/0210 | Loss: 0.0016\n",
      "Epoch: 024/050 | Batch 0100/0210 | Loss: 0.0019\n",
      "Epoch: 024/050 | Batch 0150/0210 | Loss: 0.0025\n",
      "Epoch: 024/050 | Batch 0200/0210 | Loss: 0.0017\n",
      "Epoch: 024/050 | Train: 100.00% | Validation: 98.48%\n",
      "Time elapsed: 3.91 min\n",
      "Epoch: 025/050 | Batch 0000/0210 | Loss: 0.0016\n",
      "Epoch: 025/050 | Batch 0050/0210 | Loss: 0.0015\n",
      "Epoch: 025/050 | Batch 0100/0210 | Loss: 0.0013\n",
      "Epoch: 025/050 | Batch 0150/0210 | Loss: 0.0034\n",
      "Epoch: 025/050 | Batch 0200/0210 | Loss: 0.0015\n",
      "Epoch: 025/050 | Train: 100.00% | Validation: 98.47%\n",
      "Time elapsed: 4.07 min\n",
      "Epoch: 026/050 | Batch 0000/0210 | Loss: 0.0018\n",
      "Epoch: 026/050 | Batch 0050/0210 | Loss: 0.0022\n",
      "Epoch: 026/050 | Batch 0100/0210 | Loss: 0.0020\n",
      "Epoch: 026/050 | Batch 0150/0210 | Loss: 0.0046\n",
      "Epoch: 026/050 | Batch 0200/0210 | Loss: 0.0040\n",
      "Epoch: 026/050 | Train: 100.00% | Validation: 98.30%\n",
      "Time elapsed: 4.22 min\n",
      "Epoch: 027/050 | Batch 0000/0210 | Loss: 0.0018\n",
      "Epoch: 027/050 | Batch 0050/0210 | Loss: 0.0017\n",
      "Epoch: 027/050 | Batch 0100/0210 | Loss: 0.0028\n",
      "Epoch: 027/050 | Batch 0150/0210 | Loss: 0.0022\n",
      "Epoch: 027/050 | Batch 0200/0210 | Loss: 0.0038\n",
      "Epoch: 027/050 | Train: 100.00% | Validation: 98.42%\n",
      "Time elapsed: 4.38 min\n",
      "Epoch: 028/050 | Batch 0000/0210 | Loss: 0.0015\n",
      "Epoch: 028/050 | Batch 0050/0210 | Loss: 0.0021\n",
      "Epoch: 028/050 | Batch 0100/0210 | Loss: 0.0021\n",
      "Epoch: 028/050 | Batch 0150/0210 | Loss: 0.0031\n",
      "Epoch: 028/050 | Batch 0200/0210 | Loss: 0.0017\n",
      "Epoch: 028/050 | Train: 100.00% | Validation: 98.42%\n",
      "Time elapsed: 4.53 min\n",
      "Epoch: 029/050 | Batch 0000/0210 | Loss: 0.0029\n",
      "Epoch: 029/050 | Batch 0050/0210 | Loss: 0.0021\n",
      "Epoch: 029/050 | Batch 0100/0210 | Loss: 0.0015\n",
      "Epoch: 029/050 | Batch 0150/0210 | Loss: 0.0020\n",
      "Epoch: 029/050 | Batch 0200/0210 | Loss: 0.0047\n",
      "Epoch: 029/050 | Train: 100.00% | Validation: 98.42%\n",
      "Time elapsed: 4.69 min\n",
      "Epoch: 030/050 | Batch 0000/0210 | Loss: 0.0021\n",
      "Epoch: 030/050 | Batch 0050/0210 | Loss: 0.0025\n",
      "Epoch: 030/050 | Batch 0100/0210 | Loss: 0.0035\n",
      "Epoch: 030/050 | Batch 0150/0210 | Loss: 0.0023\n",
      "Epoch: 030/050 | Batch 0200/0210 | Loss: 0.0019\n",
      "Epoch: 030/050 | Train: 100.00% | Validation: 98.40%\n",
      "Time elapsed: 4.85 min\n",
      "Epoch: 031/050 | Batch 0000/0210 | Loss: 0.0015\n",
      "Epoch: 031/050 | Batch 0050/0210 | Loss: 0.0022\n",
      "Epoch: 031/050 | Batch 0100/0210 | Loss: 0.0039\n",
      "Epoch: 031/050 | Batch 0150/0210 | Loss: 0.0016\n",
      "Epoch: 031/050 | Batch 0200/0210 | Loss: 0.0028\n",
      "Epoch: 031/050 | Train: 100.00% | Validation: 98.43%\n",
      "Time elapsed: 5.01 min\n",
      "Epoch: 032/050 | Batch 0000/0210 | Loss: 0.0015\n",
      "Epoch: 032/050 | Batch 0050/0210 | Loss: 0.0021\n",
      "Epoch: 032/050 | Batch 0100/0210 | Loss: 0.0025\n",
      "Epoch: 032/050 | Batch 0150/0210 | Loss: 0.0027\n",
      "Epoch: 032/050 | Batch 0200/0210 | Loss: 0.0023\n",
      "Epoch: 032/050 | Train: 100.00% | Validation: 98.42%\n",
      "Time elapsed: 5.17 min\n",
      "Epoch: 033/050 | Batch 0000/0210 | Loss: 0.0030\n",
      "Epoch: 033/050 | Batch 0050/0210 | Loss: 0.0022\n",
      "Epoch: 033/050 | Batch 0100/0210 | Loss: 0.0027\n",
      "Epoch: 033/050 | Batch 0150/0210 | Loss: 0.0024\n",
      "Epoch: 033/050 | Batch 0200/0210 | Loss: 0.0052\n",
      "Epoch: 033/050 | Train: 100.00% | Validation: 98.38%\n",
      "Time elapsed: 5.34 min\n",
      "Epoch 00033: reducing learning rate of group 0 to 1.0000e-02.\n",
      "Epoch: 034/050 | Batch 0000/0210 | Loss: 0.0029\n",
      "Epoch: 034/050 | Batch 0050/0210 | Loss: 0.0025\n",
      "Epoch: 034/050 | Batch 0100/0210 | Loss: 0.0016\n",
      "Epoch: 034/050 | Batch 0150/0210 | Loss: 0.0022\n",
      "Epoch: 034/050 | Batch 0200/0210 | Loss: 0.0014\n",
      "Epoch: 034/050 | Train: 100.00% | Validation: 98.45%\n",
      "Time elapsed: 5.49 min\n",
      "Epoch: 035/050 | Batch 0000/0210 | Loss: 0.0020\n",
      "Epoch: 035/050 | Batch 0050/0210 | Loss: 0.0019\n",
      "Epoch: 035/050 | Batch 0100/0210 | Loss: 0.0022\n",
      "Epoch: 035/050 | Batch 0150/0210 | Loss: 0.0026\n",
      "Epoch: 035/050 | Batch 0200/0210 | Loss: 0.0011\n",
      "Epoch: 035/050 | Train: 100.00% | Validation: 98.45%\n",
      "Time elapsed: 5.65 min\n",
      "Epoch: 036/050 | Batch 0000/0210 | Loss: 0.0010\n",
      "Epoch: 036/050 | Batch 0050/0210 | Loss: 0.0026\n",
      "Epoch: 036/050 | Batch 0100/0210 | Loss: 0.0021\n",
      "Epoch: 036/050 | Batch 0150/0210 | Loss: 0.0014\n",
      "Epoch: 036/050 | Batch 0200/0210 | Loss: 0.0017\n",
      "Epoch: 036/050 | Train: 100.00% | Validation: 98.48%\n",
      "Time elapsed: 5.81 min\n",
      "Epoch: 037/050 | Batch 0000/0210 | Loss: 0.0020\n",
      "Epoch: 037/050 | Batch 0050/0210 | Loss: 0.0019\n",
      "Epoch: 037/050 | Batch 0100/0210 | Loss: 0.0018\n",
      "Epoch: 037/050 | Batch 0150/0210 | Loss: 0.0023\n",
      "Epoch: 037/050 | Batch 0200/0210 | Loss: 0.0012\n",
      "Epoch: 037/050 | Train: 100.00% | Validation: 98.45%\n",
      "Time elapsed: 5.97 min\n",
      "Epoch: 038/050 | Batch 0000/0210 | Loss: 0.0015\n",
      "Epoch: 038/050 | Batch 0050/0210 | Loss: 0.0012\n",
      "Epoch: 038/050 | Batch 0100/0210 | Loss: 0.0011\n",
      "Epoch: 038/050 | Batch 0150/0210 | Loss: 0.0020\n",
      "Epoch: 038/050 | Batch 0200/0210 | Loss: 0.0021\n",
      "Epoch: 038/050 | Train: 100.00% | Validation: 98.45%\n",
      "Time elapsed: 6.12 min\n",
      "Epoch: 039/050 | Batch 0000/0210 | Loss: 0.0016\n",
      "Epoch: 039/050 | Batch 0050/0210 | Loss: 0.0028\n",
      "Epoch: 039/050 | Batch 0100/0210 | Loss: 0.0013\n",
      "Epoch: 039/050 | Batch 0150/0210 | Loss: 0.0013\n",
      "Epoch: 039/050 | Batch 0200/0210 | Loss: 0.0023\n",
      "Epoch: 039/050 | Train: 100.00% | Validation: 98.45%\n",
      "Time elapsed: 6.28 min\n",
      "Epoch: 040/050 | Batch 0000/0210 | Loss: 0.0016\n",
      "Epoch: 040/050 | Batch 0050/0210 | Loss: 0.0011\n",
      "Epoch: 040/050 | Batch 0100/0210 | Loss: 0.0023\n",
      "Epoch: 040/050 | Batch 0150/0210 | Loss: 0.0012\n",
      "Epoch: 040/050 | Batch 0200/0210 | Loss: 0.0020\n",
      "Epoch: 040/050 | Train: 100.00% | Validation: 98.48%\n",
      "Time elapsed: 6.44 min\n",
      "Epoch: 041/050 | Batch 0000/0210 | Loss: 0.0018\n",
      "Epoch: 041/050 | Batch 0050/0210 | Loss: 0.0017\n",
      "Epoch: 041/050 | Batch 0100/0210 | Loss: 0.0018\n",
      "Epoch: 041/050 | Batch 0150/0210 | Loss: 0.0018\n",
      "Epoch: 041/050 | Batch 0200/0210 | Loss: 0.0015\n",
      "Epoch: 041/050 | Train: 100.00% | Validation: 98.48%\n",
      "Time elapsed: 6.60 min\n",
      "Epoch: 042/050 | Batch 0000/0210 | Loss: 0.0032\n",
      "Epoch: 042/050 | Batch 0050/0210 | Loss: 0.0021\n",
      "Epoch: 042/050 | Batch 0100/0210 | Loss: 0.0016\n",
      "Epoch: 042/050 | Batch 0150/0210 | Loss: 0.0018\n",
      "Epoch: 042/050 | Batch 0200/0210 | Loss: 0.0016\n",
      "Epoch: 042/050 | Train: 100.00% | Validation: 98.52%\n",
      "Time elapsed: 6.75 min\n",
      "Epoch: 043/050 | Batch 0000/0210 | Loss: 0.0023\n",
      "Epoch: 043/050 | Batch 0050/0210 | Loss: 0.0021\n",
      "Epoch: 043/050 | Batch 0100/0210 | Loss: 0.0015\n",
      "Epoch: 043/050 | Batch 0150/0210 | Loss: 0.0021\n",
      "Epoch: 043/050 | Batch 0200/0210 | Loss: 0.0018\n",
      "Epoch: 043/050 | Train: 100.00% | Validation: 98.47%\n",
      "Time elapsed: 6.91 min\n",
      "Epoch: 044/050 | Batch 0000/0210 | Loss: 0.0015\n",
      "Epoch: 044/050 | Batch 0050/0210 | Loss: 0.0024\n",
      "Epoch: 044/050 | Batch 0100/0210 | Loss: 0.0018\n",
      "Epoch: 044/050 | Batch 0150/0210 | Loss: 0.0019\n",
      "Epoch: 044/050 | Batch 0200/0210 | Loss: 0.0033\n",
      "Epoch: 044/050 | Train: 100.00% | Validation: 98.48%\n",
      "Time elapsed: 7.07 min\n",
      "Epoch 00044: reducing learning rate of group 0 to 1.0000e-03.\n",
      "Epoch: 045/050 | Batch 0000/0210 | Loss: 0.0016\n",
      "Epoch: 045/050 | Batch 0050/0210 | Loss: 0.0025\n",
      "Epoch: 045/050 | Batch 0100/0210 | Loss: 0.0017\n",
      "Epoch: 045/050 | Batch 0150/0210 | Loss: 0.0018\n",
      "Epoch: 045/050 | Batch 0200/0210 | Loss: 0.0026\n",
      "Epoch: 045/050 | Train: 100.00% | Validation: 98.48%\n",
      "Time elapsed: 7.22 min\n",
      "Epoch: 046/050 | Batch 0000/0210 | Loss: 0.0026\n",
      "Epoch: 046/050 | Batch 0050/0210 | Loss: 0.0019\n",
      "Epoch: 046/050 | Batch 0100/0210 | Loss: 0.0016\n",
      "Epoch: 046/050 | Batch 0150/0210 | Loss: 0.0015\n",
      "Epoch: 046/050 | Batch 0200/0210 | Loss: 0.0021\n",
      "Epoch: 046/050 | Train: 100.00% | Validation: 98.48%\n",
      "Time elapsed: 7.38 min\n",
      "Epoch: 047/050 | Batch 0000/0210 | Loss: 0.0024\n",
      "Epoch: 047/050 | Batch 0050/0210 | Loss: 0.0013\n",
      "Epoch: 047/050 | Batch 0100/0210 | Loss: 0.0017\n",
      "Epoch: 047/050 | Batch 0150/0210 | Loss: 0.0019\n",
      "Epoch: 047/050 | Batch 0200/0210 | Loss: 0.0012\n",
      "Epoch: 047/050 | Train: 100.00% | Validation: 98.48%\n",
      "Time elapsed: 7.54 min\n",
      "Epoch: 048/050 | Batch 0000/0210 | Loss: 0.0021\n",
      "Epoch: 048/050 | Batch 0050/0210 | Loss: 0.0023\n",
      "Epoch: 048/050 | Batch 0100/0210 | Loss: 0.0011\n",
      "Epoch: 048/050 | Batch 0150/0210 | Loss: 0.0013\n",
      "Epoch: 048/050 | Batch 0200/0210 | Loss: 0.0023\n",
      "Epoch: 048/050 | Train: 100.00% | Validation: 98.48%\n",
      "Time elapsed: 7.70 min\n",
      "Epoch: 049/050 | Batch 0000/0210 | Loss: 0.0022\n",
      "Epoch: 049/050 | Batch 0050/0210 | Loss: 0.0020\n",
      "Epoch: 049/050 | Batch 0100/0210 | Loss: 0.0023\n",
      "Epoch: 049/050 | Batch 0150/0210 | Loss: 0.0015\n",
      "Epoch: 049/050 | Batch 0200/0210 | Loss: 0.0021\n",
      "Epoch: 049/050 | Train: 100.00% | Validation: 98.48%\n",
      "Time elapsed: 7.85 min\n",
      "Epoch: 050/050 | Batch 0000/0210 | Loss: 0.0022\n",
      "Epoch: 050/050 | Batch 0050/0210 | Loss: 0.0021\n",
      "Epoch: 050/050 | Batch 0100/0210 | Loss: 0.0008\n",
      "Epoch: 050/050 | Batch 0150/0210 | Loss: 0.0012\n",
      "Epoch: 050/050 | Batch 0200/0210 | Loss: 0.0022\n",
      "Epoch: 050/050 | Train: 100.00% | Validation: 98.48%\n",
      "Time elapsed: 8.01 min\n",
      "Total Training Time: 8.01 min\n",
      "Test accuracy 98.42%\n"
     ]
    },
    {
     "data": {
      "image/png": "[encoded data removed]",
      "text/plain": [
       "<Figure size 432x288 with 2 Axes>"
      ]
     },
     "metadata": {
      "needs_background": "light"
     },
     "output_type": "display_data"
    },
    {
     "data": {
      "image/png": "[encoded data removed]",
      "text/plain": [
       "<Figure size 432x288 with 1 Axes>"
      ]
     },
     "metadata": {
      "needs_background": "light"
     },
     "output_type": "display_data"
    }
   ],
   "source": [
    "torch.manual_seed(RANDOM_SEED)\n",
    "model1 = MLPNet()\n",
    "model1 = model1.to(DEVICE)\n",
    "#optimizer = torch.optim.SGD(model.parameters(), lr=0.1, weight_decay=0.0001)\n",
    "optimizer1 = torch.optim.SGD(model1.parameters(), lr=0.1, momentum=0.9, weight_decay=0.0001)\n",
    "\n",
    "scheduler = torch.optim.lr_scheduler.ReduceLROnPlateau(optimizer1,\n",
    "                                                      factor=0.1,\n",
    "                                                        mode='min',\n",
    "                                                        verbose=True)\n",
    "\n",
    "minibatch_loss_list, train_acc_list, valid_acc_list = train_model(\n",
    "    model=model1,\n",
    "    num_epochs=NUM_EPOCHS,\n",
    "    train_loader=train_loader,\n",
    "    valid_loader=valid_loader,\n",
    "    test_loader=test_loader,\n",
    "    optimizer=optimizer1,\n",
    "    device=DEVICE,\n",
    "    scheduler=scheduler,\n",
    "    scheduler_on='minibatch_loss')\n",
    "\n",
    "plot_training_loss(minibatch_loss_list=minibatch_loss_list,\n",
    "                   num_epochs=NUM_EPOCHS,\n",
    "                   iter_per_epoch=len(train_loader),\n",
    "                   results_dir=None,\n",
    "                   averaging_iterations=20)\n",
    "plt.show()\n",
    "\n",
    "plot_accuracy(train_acc_list=train_acc_list,\n",
    "              valid_acc_list=valid_acc_list,\n",
    "              results_dir=None)\n",
    "plt.ylim([80, 100])\n",
    "plt.show()"
   ]
  }
 ],
 "metadata": {
  "accelerator": "GPU",
  "colab": {
   "provenance": [
    {
     "file_id": "18q1BodtsOtqYdte59d2DWKFrzjx9uls8",
     "timestamp": 1665763250724
    }
   ]
  },
  "kernelspec": {
   "display_name": "Python 3 (ipykernel)",
   "language": "python",
   "name": "python3"
  },
  "language_info": {
   "codemirror_mode": {
    "name": "ipython",
    "version": 3
   },
   "file_extension": ".py",
   "mimetype": "text/x-python",
   "name": "python",
   "nbconvert_exporter": "python",
   "pygments_lexer": "ipython3",
   "version": "3.8.1"
  },
  "toc": {
   "nav_menu": {},
   "number_sections": true,
   "sideBar": true,
   "skip_h1_title": false,
   "title_cell": "Table of Contents",
   "title_sidebar": "Contents",
   "toc_cell": false,
   "toc_position": {},
   "toc_section_display": true,
   "toc_window_display": false
  }
 },
 "nbformat": 4,
 "nbformat_minor": 1
}
